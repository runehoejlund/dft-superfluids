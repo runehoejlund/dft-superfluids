{
 "cells": [
  {
   "cell_type": "code",
   "execution_count": 12,
   "id": "28656d36",
   "metadata": {},
   "outputs": [
    {
     "name": "stdout",
     "output_type": "stream",
     "text": [
      "0 0\n",
      "0 1\n",
      "1 0\n",
      "1 1\n",
      "2 0\n"
     ]
    },
    {
     "ename": "KeyboardInterrupt",
     "evalue": "",
     "output_type": "error",
     "traceback": [
      "\u001b[0;31m---------------------------------------------------------------------------\u001b[0m",
      "\u001b[0;31mKeyboardInterrupt\u001b[0m                         Traceback (most recent call last)",
      "Input \u001b[0;32mIn [12]\u001b[0m, in \u001b[0;36m<cell line: 19>\u001b[0;34m()\u001b[0m\n\u001b[1;32m     82\u001b[0m plt\u001b[38;5;241m.\u001b[39msavefig(\u001b[38;5;124m'\u001b[39m\u001b[38;5;124m/home/niflheim/s183774/dft-superfluids/bandstructure/plots/Loop_valFit_\u001b[39m\u001b[38;5;132;01m{}\u001b[39;00m\u001b[38;5;124m_sym_\u001b[39m\u001b[38;5;132;01m{}\u001b[39;00m\u001b[38;5;124m_npoints_\u001b[39m\u001b[38;5;132;01m{}\u001b[39;00m\u001b[38;5;124m_emptybands\u001b[39m\u001b[38;5;132;01m{}\u001b[39;00m\u001b[38;5;124m_ecut_\u001b[39m\u001b[38;5;132;01m{}\u001b[39;00m\u001b[38;5;124m_kp_\u001b[39m\u001b[38;5;132;01m{}\u001b[39;00m\u001b[38;5;124m.svg\u001b[39m\u001b[38;5;124m'\u001b[39m\u001b[38;5;241m.\u001b[39mformat(formula,sym_path,nP,emptybands,ecut,no_kpts))\n\u001b[1;32m     83\u001b[0m plt\u001b[38;5;241m.\u001b[39mclose()\n\u001b[0;32m---> 85\u001b[0m \u001b[43mplt\u001b[49m\u001b[38;5;241;43m.\u001b[39;49m\u001b[43mplot\u001b[49m\u001b[43m(\u001b[49m\u001b[43mkVec\u001b[49m\u001b[43m,\u001b[49m\u001b[43mconVec\u001b[49m\u001b[43m,\u001b[49m\u001b[38;5;124;43m'\u001b[39;49m\u001b[38;5;124;43mr-*\u001b[39;49m\u001b[38;5;124;43m'\u001b[39;49m\u001b[43m)\u001b[49m\n\u001b[1;32m     86\u001b[0m plt\u001b[38;5;241m.\u001b[39mplot(kVec,par_con,\u001b[38;5;124m'\u001b[39m\u001b[38;5;124mb-*\u001b[39m\u001b[38;5;124m'\u001b[39m)\n\u001b[1;32m     87\u001b[0m plt\u001b[38;5;241m.\u001b[39mlegend([\u001b[38;5;124m'\u001b[39m\u001b[38;5;124mData\u001b[39m\u001b[38;5;124m'\u001b[39m,\u001b[38;5;124m'\u001b[39m\u001b[38;5;124mParabolic\u001b[39m\u001b[38;5;124m'\u001b[39m])\n",
      "File \u001b[0;32m/home/modules/software/matplotlib/3.3.3-foss-2020b/lib/python3.8/site-packages/matplotlib/pyplot.py:2840\u001b[0m, in \u001b[0;36mplot\u001b[0;34m(scalex, scaley, data, *args, **kwargs)\u001b[0m\n\u001b[1;32m   2838\u001b[0m \u001b[38;5;129m@_copy_docstring_and_deprecators\u001b[39m(Axes\u001b[38;5;241m.\u001b[39mplot)\n\u001b[1;32m   2839\u001b[0m \u001b[38;5;28;01mdef\u001b[39;00m \u001b[38;5;21mplot\u001b[39m(\u001b[38;5;241m*\u001b[39margs, scalex\u001b[38;5;241m=\u001b[39m\u001b[38;5;28;01mTrue\u001b[39;00m, scaley\u001b[38;5;241m=\u001b[39m\u001b[38;5;28;01mTrue\u001b[39;00m, data\u001b[38;5;241m=\u001b[39m\u001b[38;5;28;01mNone\u001b[39;00m, \u001b[38;5;241m*\u001b[39m\u001b[38;5;241m*\u001b[39mkwargs):\n\u001b[0;32m-> 2840\u001b[0m     \u001b[38;5;28;01mreturn\u001b[39;00m \u001b[43mgca\u001b[49m\u001b[43m(\u001b[49m\u001b[43m)\u001b[49m\u001b[38;5;241m.\u001b[39mplot(\n\u001b[1;32m   2841\u001b[0m         \u001b[38;5;241m*\u001b[39margs, scalex\u001b[38;5;241m=\u001b[39mscalex, scaley\u001b[38;5;241m=\u001b[39mscaley,\n\u001b[1;32m   2842\u001b[0m         \u001b[38;5;241m*\u001b[39m\u001b[38;5;241m*\u001b[39m({\u001b[38;5;124m\"\u001b[39m\u001b[38;5;124mdata\u001b[39m\u001b[38;5;124m\"\u001b[39m: data} \u001b[38;5;28;01mif\u001b[39;00m data \u001b[38;5;129;01mis\u001b[39;00m \u001b[38;5;129;01mnot\u001b[39;00m \u001b[38;5;28;01mNone\u001b[39;00m \u001b[38;5;28;01melse\u001b[39;00m {}), \u001b[38;5;241m*\u001b[39m\u001b[38;5;241m*\u001b[39mkwargs)\n",
      "File \u001b[0;32m/home/modules/software/matplotlib/3.3.3-foss-2020b/lib/python3.8/site-packages/matplotlib/pyplot.py:2368\u001b[0m, in \u001b[0;36mgca\u001b[0;34m(**kwargs)\u001b[0m\n\u001b[1;32m   2366\u001b[0m \u001b[38;5;129m@_copy_docstring_and_deprecators\u001b[39m(Figure\u001b[38;5;241m.\u001b[39mgca)\n\u001b[1;32m   2367\u001b[0m \u001b[38;5;28;01mdef\u001b[39;00m \u001b[38;5;21mgca\u001b[39m(\u001b[38;5;241m*\u001b[39m\u001b[38;5;241m*\u001b[39mkwargs):\n\u001b[0;32m-> 2368\u001b[0m     \u001b[38;5;28;01mreturn\u001b[39;00m \u001b[43mgcf\u001b[49m\u001b[43m(\u001b[49m\u001b[43m)\u001b[49m\u001b[38;5;241m.\u001b[39mgca(\u001b[38;5;241m*\u001b[39m\u001b[38;5;241m*\u001b[39mkwargs)\n",
      "File \u001b[0;32m/home/modules/software/matplotlib/3.3.3-foss-2020b/lib/python3.8/site-packages/matplotlib/pyplot.py:747\u001b[0m, in \u001b[0;36mgcf\u001b[0;34m()\u001b[0m\n\u001b[1;32m    745\u001b[0m     \u001b[38;5;28;01mreturn\u001b[39;00m figManager\u001b[38;5;241m.\u001b[39mcanvas\u001b[38;5;241m.\u001b[39mfigure\n\u001b[1;32m    746\u001b[0m \u001b[38;5;28;01melse\u001b[39;00m:\n\u001b[0;32m--> 747\u001b[0m     \u001b[38;5;28;01mreturn\u001b[39;00m \u001b[43mfigure\u001b[49m\u001b[43m(\u001b[49m\u001b[43m)\u001b[49m\n",
      "File \u001b[0;32m/home/modules/software/matplotlib/3.3.3-foss-2020b/lib/python3.8/site-packages/matplotlib/pyplot.py:687\u001b[0m, in \u001b[0;36mfigure\u001b[0;34m(num, figsize, dpi, facecolor, edgecolor, frameon, FigureClass, clear, **kwargs)\u001b[0m\n\u001b[1;32m    684\u001b[0m \u001b[38;5;28;01mif\u001b[39;00m get_backend()\u001b[38;5;241m.\u001b[39mlower() \u001b[38;5;241m==\u001b[39m \u001b[38;5;124m'\u001b[39m\u001b[38;5;124mps\u001b[39m\u001b[38;5;124m'\u001b[39m:\n\u001b[1;32m    685\u001b[0m     dpi \u001b[38;5;241m=\u001b[39m \u001b[38;5;241m72\u001b[39m\n\u001b[0;32m--> 687\u001b[0m figManager \u001b[38;5;241m=\u001b[39m \u001b[43mnew_figure_manager\u001b[49m\u001b[43m(\u001b[49m\u001b[43mnum\u001b[49m\u001b[43m,\u001b[49m\u001b[43m \u001b[49m\u001b[43mfigsize\u001b[49m\u001b[38;5;241;43m=\u001b[39;49m\u001b[43mfigsize\u001b[49m\u001b[43m,\u001b[49m\n\u001b[1;32m    688\u001b[0m \u001b[43m                                \u001b[49m\u001b[43mdpi\u001b[49m\u001b[38;5;241;43m=\u001b[39;49m\u001b[43mdpi\u001b[49m\u001b[43m,\u001b[49m\n\u001b[1;32m    689\u001b[0m \u001b[43m                                \u001b[49m\u001b[43mfacecolor\u001b[49m\u001b[38;5;241;43m=\u001b[39;49m\u001b[43mfacecolor\u001b[49m\u001b[43m,\u001b[49m\n\u001b[1;32m    690\u001b[0m \u001b[43m                                \u001b[49m\u001b[43medgecolor\u001b[49m\u001b[38;5;241;43m=\u001b[39;49m\u001b[43medgecolor\u001b[49m\u001b[43m,\u001b[49m\n\u001b[1;32m    691\u001b[0m \u001b[43m                                \u001b[49m\u001b[43mframeon\u001b[49m\u001b[38;5;241;43m=\u001b[39;49m\u001b[43mframeon\u001b[49m\u001b[43m,\u001b[49m\n\u001b[1;32m    692\u001b[0m \u001b[43m                                \u001b[49m\u001b[43mFigureClass\u001b[49m\u001b[38;5;241;43m=\u001b[39;49m\u001b[43mFigureClass\u001b[49m\u001b[43m,\u001b[49m\n\u001b[1;32m    693\u001b[0m \u001b[43m                                \u001b[49m\u001b[38;5;241;43m*\u001b[39;49m\u001b[38;5;241;43m*\u001b[39;49m\u001b[43mkwargs\u001b[49m\u001b[43m)\u001b[49m\n\u001b[1;32m    694\u001b[0m fig \u001b[38;5;241m=\u001b[39m figManager\u001b[38;5;241m.\u001b[39mcanvas\u001b[38;5;241m.\u001b[39mfigure\n\u001b[1;32m    695\u001b[0m \u001b[38;5;28;01mif\u001b[39;00m figLabel:\n",
      "File \u001b[0;32m/home/modules/software/matplotlib/3.3.3-foss-2020b/lib/python3.8/site-packages/matplotlib/pyplot.py:315\u001b[0m, in \u001b[0;36mnew_figure_manager\u001b[0;34m(*args, **kwargs)\u001b[0m\n\u001b[1;32m    313\u001b[0m \u001b[38;5;124;03m\"\"\"Create a new figure manager instance.\"\"\"\u001b[39;00m\n\u001b[1;32m    314\u001b[0m _warn_if_gui_out_of_main_thread()\n\u001b[0;32m--> 315\u001b[0m \u001b[38;5;28;01mreturn\u001b[39;00m \u001b[43m_backend_mod\u001b[49m\u001b[38;5;241;43m.\u001b[39;49m\u001b[43mnew_figure_manager\u001b[49m\u001b[43m(\u001b[49m\u001b[38;5;241;43m*\u001b[39;49m\u001b[43margs\u001b[49m\u001b[43m,\u001b[49m\u001b[43m \u001b[49m\u001b[38;5;241;43m*\u001b[39;49m\u001b[38;5;241;43m*\u001b[39;49m\u001b[43mkwargs\u001b[49m\u001b[43m)\u001b[49m\n",
      "File \u001b[0;32m/home/modules/software/matplotlib/3.3.3-foss-2020b/lib/python3.8/site-packages/matplotlib/backend_bases.py:3494\u001b[0m, in \u001b[0;36m_Backend.new_figure_manager\u001b[0;34m(cls, num, *args, **kwargs)\u001b[0m\n\u001b[1;32m   3492\u001b[0m fig_cls \u001b[38;5;241m=\u001b[39m kwargs\u001b[38;5;241m.\u001b[39mpop(\u001b[38;5;124m'\u001b[39m\u001b[38;5;124mFigureClass\u001b[39m\u001b[38;5;124m'\u001b[39m, Figure)\n\u001b[1;32m   3493\u001b[0m fig \u001b[38;5;241m=\u001b[39m fig_cls(\u001b[38;5;241m*\u001b[39margs, \u001b[38;5;241m*\u001b[39m\u001b[38;5;241m*\u001b[39mkwargs)\n\u001b[0;32m-> 3494\u001b[0m \u001b[38;5;28;01mreturn\u001b[39;00m \u001b[38;5;28;43mcls\u001b[39;49m\u001b[38;5;241;43m.\u001b[39;49m\u001b[43mnew_figure_manager_given_figure\u001b[49m\u001b[43m(\u001b[49m\u001b[43mnum\u001b[49m\u001b[43m,\u001b[49m\u001b[43m \u001b[49m\u001b[43mfig\u001b[49m\u001b[43m)\u001b[49m\n",
      "File \u001b[0;32m/home/modules/software/matplotlib/3.3.3-foss-2020b/lib/python3.8/site-packages/matplotlib/backends/_backend_tk.py:901\u001b[0m, in \u001b[0;36m_BackendTk.new_figure_manager_given_figure\u001b[0;34m(cls, num, figure)\u001b[0m\n\u001b[1;32m    897\u001b[0m \u001b[38;5;28;01mexcept\u001b[39;00m \u001b[38;5;167;01mException\u001b[39;00m \u001b[38;5;28;01mas\u001b[39;00m exc:\n\u001b[1;32m    898\u001b[0m     \u001b[38;5;66;03m# log the failure (due e.g. to Tk version), but carry on\u001b[39;00m\n\u001b[1;32m    899\u001b[0m     _log\u001b[38;5;241m.\u001b[39minfo(\u001b[38;5;124m'\u001b[39m\u001b[38;5;124mCould not load matplotlib icon: \u001b[39m\u001b[38;5;132;01m%s\u001b[39;00m\u001b[38;5;124m'\u001b[39m, exc)\n\u001b[0;32m--> 901\u001b[0m canvas \u001b[38;5;241m=\u001b[39m \u001b[38;5;28;43mcls\u001b[39;49m\u001b[38;5;241;43m.\u001b[39;49m\u001b[43mFigureCanvas\u001b[49m\u001b[43m(\u001b[49m\u001b[43mfigure\u001b[49m\u001b[43m,\u001b[49m\u001b[43m \u001b[49m\u001b[43mmaster\u001b[49m\u001b[38;5;241;43m=\u001b[39;49m\u001b[43mwindow\u001b[49m\u001b[43m)\u001b[49m\n\u001b[1;32m    902\u001b[0m manager \u001b[38;5;241m=\u001b[39m \u001b[38;5;28mcls\u001b[39m\u001b[38;5;241m.\u001b[39mFigureManager(canvas, num, window)\n\u001b[1;32m    903\u001b[0m \u001b[38;5;28;01mif\u001b[39;00m mpl\u001b[38;5;241m.\u001b[39mis_interactive():\n",
      "File \u001b[0;32m/home/modules/software/matplotlib/3.3.3-foss-2020b/lib/python3.8/site-packages/matplotlib/backends/_backend_tk.py:187\u001b[0m, in \u001b[0;36mFigureCanvasTk.__init__\u001b[0;34m(self, figure, master, resize_callback)\u001b[0m\n\u001b[1;32m    182\u001b[0m \u001b[38;5;28mself\u001b[39m\u001b[38;5;241m.\u001b[39m_tkcanvas \u001b[38;5;241m=\u001b[39m tk\u001b[38;5;241m.\u001b[39mCanvas(\n\u001b[1;32m    183\u001b[0m     master\u001b[38;5;241m=\u001b[39mmaster, background\u001b[38;5;241m=\u001b[39m\u001b[38;5;124m\"\u001b[39m\u001b[38;5;124mwhite\u001b[39m\u001b[38;5;124m\"\u001b[39m,\n\u001b[1;32m    184\u001b[0m     width\u001b[38;5;241m=\u001b[39mw, height\u001b[38;5;241m=\u001b[39mh, borderwidth\u001b[38;5;241m=\u001b[39m\u001b[38;5;241m0\u001b[39m, highlightthickness\u001b[38;5;241m=\u001b[39m\u001b[38;5;241m0\u001b[39m)\n\u001b[1;32m    185\u001b[0m \u001b[38;5;28mself\u001b[39m\u001b[38;5;241m.\u001b[39m_tkphoto \u001b[38;5;241m=\u001b[39m tk\u001b[38;5;241m.\u001b[39mPhotoImage(\n\u001b[1;32m    186\u001b[0m     master\u001b[38;5;241m=\u001b[39m\u001b[38;5;28mself\u001b[39m\u001b[38;5;241m.\u001b[39m_tkcanvas, width\u001b[38;5;241m=\u001b[39mw, height\u001b[38;5;241m=\u001b[39mh)\n\u001b[0;32m--> 187\u001b[0m \u001b[38;5;28;43mself\u001b[39;49m\u001b[38;5;241;43m.\u001b[39;49m\u001b[43m_tkcanvas\u001b[49m\u001b[38;5;241;43m.\u001b[39;49m\u001b[43mcreate_image\u001b[49m\u001b[43m(\u001b[49m\u001b[43mw\u001b[49m\u001b[38;5;241;43m/\u001b[39;49m\u001b[38;5;241;43m/\u001b[39;49m\u001b[38;5;241;43m2\u001b[39;49m\u001b[43m,\u001b[49m\u001b[43m \u001b[49m\u001b[43mh\u001b[49m\u001b[38;5;241;43m/\u001b[39;49m\u001b[38;5;241;43m/\u001b[39;49m\u001b[38;5;241;43m2\u001b[39;49m\u001b[43m,\u001b[49m\u001b[43m \u001b[49m\u001b[43mimage\u001b[49m\u001b[38;5;241;43m=\u001b[39;49m\u001b[38;5;28;43mself\u001b[39;49m\u001b[38;5;241;43m.\u001b[39;49m\u001b[43m_tkphoto\u001b[49m\u001b[43m)\u001b[49m\n\u001b[1;32m    188\u001b[0m \u001b[38;5;28mself\u001b[39m\u001b[38;5;241m.\u001b[39m_resize_callback \u001b[38;5;241m=\u001b[39m resize_callback\n\u001b[1;32m    189\u001b[0m \u001b[38;5;28mself\u001b[39m\u001b[38;5;241m.\u001b[39m_tkcanvas\u001b[38;5;241m.\u001b[39mbind(\u001b[38;5;124m\"\u001b[39m\u001b[38;5;124m<Configure>\u001b[39m\u001b[38;5;124m\"\u001b[39m, \u001b[38;5;28mself\u001b[39m\u001b[38;5;241m.\u001b[39mresize)\n",
      "File \u001b[0;32m/home/modules/software/Tkinter/3.8.6-GCCcore-10.2.0/lib/python3.8/tkinter/__init__.py:2785\u001b[0m, in \u001b[0;36mCanvas.create_image\u001b[0;34m(self, *args, **kw)\u001b[0m\n\u001b[1;32m   2783\u001b[0m \u001b[38;5;28;01mdef\u001b[39;00m \u001b[38;5;21mcreate_image\u001b[39m(\u001b[38;5;28mself\u001b[39m, \u001b[38;5;241m*\u001b[39margs, \u001b[38;5;241m*\u001b[39m\u001b[38;5;241m*\u001b[39mkw):\n\u001b[1;32m   2784\u001b[0m     \u001b[38;5;124;03m\"\"\"Create image item with coordinates x1,y1.\"\"\"\u001b[39;00m\n\u001b[0;32m-> 2785\u001b[0m     \u001b[38;5;28;01mreturn\u001b[39;00m \u001b[38;5;28;43mself\u001b[39;49m\u001b[38;5;241;43m.\u001b[39;49m\u001b[43m_create\u001b[49m\u001b[43m(\u001b[49m\u001b[38;5;124;43m'\u001b[39;49m\u001b[38;5;124;43mimage\u001b[39;49m\u001b[38;5;124;43m'\u001b[39;49m\u001b[43m,\u001b[49m\u001b[43m \u001b[49m\u001b[43margs\u001b[49m\u001b[43m,\u001b[49m\u001b[43m \u001b[49m\u001b[43mkw\u001b[49m\u001b[43m)\u001b[49m\n",
      "File \u001b[0;32m/home/modules/software/Tkinter/3.8.6-GCCcore-10.2.0/lib/python3.8/tkinter/__init__.py:2771\u001b[0m, in \u001b[0;36mCanvas._create\u001b[0;34m(self, itemType, args, kw)\u001b[0m\n\u001b[1;32m   2769\u001b[0m \u001b[38;5;28;01melse\u001b[39;00m:\n\u001b[1;32m   2770\u001b[0m     cnf \u001b[38;5;241m=\u001b[39m {}\n\u001b[0;32m-> 2771\u001b[0m \u001b[38;5;28;01mreturn\u001b[39;00m \u001b[38;5;28mself\u001b[39m\u001b[38;5;241m.\u001b[39mtk\u001b[38;5;241m.\u001b[39mgetint(\u001b[38;5;28;43mself\u001b[39;49m\u001b[38;5;241;43m.\u001b[39;49m\u001b[43mtk\u001b[49m\u001b[38;5;241;43m.\u001b[39;49m\u001b[43mcall\u001b[49m\u001b[43m(\u001b[49m\n\u001b[1;32m   2772\u001b[0m \u001b[43m    \u001b[49m\u001b[38;5;28;43mself\u001b[39;49m\u001b[38;5;241;43m.\u001b[39;49m\u001b[43m_w\u001b[49m\u001b[43m,\u001b[49m\u001b[43m \u001b[49m\u001b[38;5;124;43m'\u001b[39;49m\u001b[38;5;124;43mcreate\u001b[39;49m\u001b[38;5;124;43m'\u001b[39;49m\u001b[43m,\u001b[49m\u001b[43m \u001b[49m\u001b[43mitemType\u001b[49m\u001b[43m,\u001b[49m\n\u001b[1;32m   2773\u001b[0m \u001b[43m    \u001b[49m\u001b[38;5;241;43m*\u001b[39;49m\u001b[43m(\u001b[49m\u001b[43margs\u001b[49m\u001b[43m \u001b[49m\u001b[38;5;241;43m+\u001b[39;49m\u001b[43m \u001b[49m\u001b[38;5;28;43mself\u001b[39;49m\u001b[38;5;241;43m.\u001b[39;49m\u001b[43m_options\u001b[49m\u001b[43m(\u001b[49m\u001b[43mcnf\u001b[49m\u001b[43m,\u001b[49m\u001b[43m \u001b[49m\u001b[43mkw\u001b[49m\u001b[43m)\u001b[49m\u001b[43m)\u001b[49m\u001b[43m)\u001b[49m)\n",
      "\u001b[0;31mKeyboardInterrupt\u001b[0m: "
     ]
    }
   ],
   "source": [
    "#import important stuff\n",
    "from gpaw import GPAW, PW, FermiDirac\n",
    "from ase.io import read\n",
    "from ase.spectrum.band_structure import BandStructurePlot\n",
    "from ase.spectrum.band_structure import BandStructure\n",
    "from ase.build import mx2\n",
    "import numpy as np\n",
    "import matplotlib.pyplot as plt\n",
    "import ase.units\n",
    "Hartree = ase.units.Hartree#Hartree energy\n",
    "Bohr = ase.units.Bohr#Bohr radius\n",
    "\n",
    "emptybands=13\n",
    "\n",
    "formula_List=['MoS2','MoSe2','WS2','WSe2']\n",
    "sym_path_List=['KM','KG']\n",
    "nP_List=[30,59]\n",
    "eff_mass_Matrix=np.zeros((4,4))\n",
    "for iLoop in range(len(formula_List)):\n",
    "    for jLoop in range(2):\n",
    "        print(iLoop,jLoop)\n",
    "        #choose\n",
    "        formula = formula_List[iLoop]\n",
    "        vac = 20\n",
    "        #out_dir = './out/'\n",
    "        #name = out_dir + formula + '_PBE_gs.gpw'\n",
    "        sym_path=sym_path_List[jLoop]\n",
    "        nP=nP_List[jLoop]\n",
    "        xc='PBE'\n",
    "        ecut=500\n",
    "        no_kpts=50\n",
    "        bs1=BandStructure.read('/home/niflheim/s183774/dft-superfluids/bandstructure/bsLoop_formula_'+formula+'_direction_'+sym_path+'_npoints_{}_emptybands_{}'.format(nP,emptybands)+ '_'+xc+'_ecut_{}_kp_{}'.format(ecut,no_kpts)+'.json')\n",
    "        #\n",
    "        Nkpt=np.shape(bs1.energies)[1]\n",
    "        kPath=bs1.path.kpts\n",
    "        kDiff=kPath-kPath[0]\n",
    "        DeltaK_mag=np.zeros((Nkpt))\n",
    "        for i in range(Nkpt):\n",
    "            DeltaK_mag[i]=np.sqrt((kPath[i,0]-kPath[0,0])**2+(kPath[i,1]-kPath[0,1])**2+(kPath[i,2]-kPath[0,2])**2)\n",
    "        #\n",
    "        energybands=bs1.energies[0]\n",
    "        valenceBand=energybands[:,12]\n",
    "        conductionBand=energybands[:,13]\n",
    "        ##EFFECTIVE MASSES\n",
    "        atomUnit_to_eV=Hartree\n",
    "        Aang_to_atomUnit=1/Bohr\n",
    "        DeltaK_quan=DeltaK_mag[1]\n",
    "        Dev2_val=2*(valenceBand[1]-valenceBand[0])/DeltaK_quan**2\n",
    "        Dev2_con=2*(conductionBand[1]-conductionBand[0])/DeltaK_quan**2\n",
    "        #valenceBand=energybands[:,12]\n",
    "        #conductionBand=energybands[:,13]\n",
    "        m_eff_e=atomUnit_to_eV/Dev2_con\n",
    "        m_eff_h=-atomUnit_to_eV/Dev2_val\n",
    "        eff_mass_Matrix[iLoop,2*jLoop]=m_eff_e\n",
    "        eff_mass_Matrix[iLoop,2*jLoop+1]=m_eff_h\n",
    "        \n",
    "        #apparently k is already in atomic units!!!\n",
    "        def val_band(x,A1,m_eff_h):\n",
    "            return A1-atomUnit_to_eV*(x)**2/(2*m_eff_h)\n",
    "        def con_band(x,A1,m_eff_e):\n",
    "            return A1+atomUnit_to_eV*(x)**2/(2*m_eff_e)\n",
    "        \n",
    "        #choose a cut off\n",
    "        k_cut=100\n",
    "        bool_k=DeltaK_mag<k_cut\n",
    "        DeltaK_cut=DeltaK_mag[bool_k]\n",
    "        valenceBand_cut=valenceBand[bool_k]\n",
    "        conductionBand_cut=conductionBand[bool_k]\n",
    "        #\n",
    "        kVec=np.concatenate((-np.flip(DeltaK_cut),DeltaK_cut[1:]))\n",
    "        valVec=np.concatenate((np.flip(valenceBand_cut),valenceBand_cut[1:]))\n",
    "        conVec=np.concatenate((np.flip(conductionBand_cut),conductionBand_cut[1:]))\n",
    "        par_val=val_band(kVec,valenceBand[0],m_eff_h)\n",
    "        par_con=con_band(kVec,conductionBand[0],m_eff_h)\n",
    "        #plots\n",
    "        plt.plot(kVec,valVec,'r-*')\n",
    "        plt.plot(kVec,par_val,'b-*')\n",
    "        plt.legend(['Data','Parabolic'])\n",
    "        plt.xlabel('Delta k')\n",
    "        plt.ylabel('E [eV]')\n",
    "        plt.title(formula+'path: '+sym_path+' Eff h-mass: {}'.format(m_eff_h))\n",
    "        plt.savefig('/home/niflheim/s183774/dft-superfluids/bandstructure/plots/Loop_valFit_{}_sym_{}_npoints_{}_emptybands{}_ecut_{}_kp_{}.svg'.format(formula,sym_path,nP,emptybands,ecut,no_kpts))\n",
    "        plt.close()\n",
    "\n",
    "        plt.plot(kVec,conVec,'r-*')\n",
    "        plt.plot(kVec,par_con,'b-*')\n",
    "        plt.legend(['Data','Parabolic'])\n",
    "        plt.xlabel('Delta k')\n",
    "        plt.ylabel('E [eV]')\n",
    "        plt.title(formula+'path: '+sym_path+' Eff e-mass={}'.format(m_eff_e))\n",
    "        plt.savefig('/home/niflheim/s183774/dft-superfluids/bandstructure/plots/Loop_conFit_{}_sym_{}_npoints_{}_emptybands_{}_ecut_{}_kp_{}.svg'.format(formula,sym_path,nP,emptybands,ecut,no_kpts))\n",
    "        plt.close()\n",
    "np.savez('effective masses_ecut_{}_kp_{}.svg'.format(ecut,no_kpts), effMass=eff_mass_Matrix)\n"
   ]
  },
  {
   "cell_type": "code",
   "execution_count": 11,
   "id": "dd69115b",
   "metadata": {},
   "outputs": [
    {
     "name": "stdout",
     "output_type": "stream",
     "text": [
      "[[0.21176313 0.26722148 0.51704838 0.63828962]\n",
      " [0.27081649 0.32693502 0.66045708 0.78068218]\n",
      " [0.55688952 0.57971657 0.56734793 0.56315556]\n",
      " [0.12729269 0.17922887 0.30957751 0.43220903]]\n"
     ]
    }
   ],
   "source": [
    "print(eff_mass_Matrix)"
   ]
  },
  {
   "cell_type": "code",
   "execution_count": 3,
   "id": "34690392",
   "metadata": {},
   "outputs": [
    {
     "name": "stdout",
     "output_type": "stream",
     "text": [
      "[[0.21184793 0.26741432 0.5172392  0.63872199]\n",
      " [0.270814   0.32693461 0.66045072 0.78068078]\n",
      " [0.5568876  0.5797151  0.56734546 0.56315403]\n",
      " [0.12729475 0.17923281 0.30958255 0.43221848]]\n"
     ]
    }
   ],
   "source": [
    "#np.savez('effective masses', effMass=eff_mass_Matrix)\n",
    "print(eff_mass_Matrix)"
   ]
  },
  {
   "cell_type": "code",
   "execution_count": 2,
   "id": "c8a26035",
   "metadata": {},
   "outputs": [],
   "source": [
    "import numpy as np"
   ]
  },
  {
   "cell_type": "code",
   "execution_count": 3,
   "id": "092b4341",
   "metadata": {},
   "outputs": [],
   "source": [
    "#should be the same along each path... (table values)\n",
    "eff_mass_c2db=np.array([[0.43,0.53],[0.49,0.58],[0.47,0.34],[0.45,0.35]])\n",
    "eff_mass_qeh=np.array([[0.43,0.53],[0.49,0.58],[0.33,0.34],[0.39,0.36]])"
   ]
  },
  {
   "cell_type": "code",
   "execution_count": 4,
   "id": "e3c21a23",
   "metadata": {},
   "outputs": [
    {
     "name": "stdout",
     "output_type": "stream",
     "text": [
      "[[0.43 0.53]\n",
      " [0.49 0.58]\n",
      " [0.47 0.34]\n",
      " [0.45 0.35]]\n",
      "[[0.43 0.53]\n",
      " [0.49 0.58]\n",
      " [0.33 0.34]\n",
      " [0.39 0.36]]\n"
     ]
    }
   ],
   "source": [
    "print(eff_mass_c2db)\n",
    "print(eff_mass_qeh)"
   ]
  },
  {
   "cell_type": "code",
   "execution_count": null,
   "id": "9b871ed6",
   "metadata": {},
   "outputs": [],
   "source": []
  }
 ],
 "metadata": {
  "kernelspec": {
   "display_name": "Python 3 (ipykernel)",
   "language": "python",
   "name": "python3"
  },
  "language_info": {
   "codemirror_mode": {
    "name": "ipython",
    "version": 3
   },
   "file_extension": ".py",
   "mimetype": "text/x-python",
   "name": "python",
   "nbconvert_exporter": "python",
   "pygments_lexer": "ipython3",
   "version": "3.8.6"
  }
 },
 "nbformat": 4,
 "nbformat_minor": 5
}
