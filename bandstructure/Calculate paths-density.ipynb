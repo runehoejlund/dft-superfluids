{
 "cells": [
  {
   "cell_type": "code",
   "execution_count": 2,
   "id": "ea062958",
   "metadata": {},
   "outputs": [],
   "source": [
    "#import important stuff\n",
    "from gpaw import GPAW, PW, FermiDirac\n",
    "from ase.io import read\n",
    "from ase.spectrum.band_structure import BandStructurePlot\n",
    "from ase.build import mx2\n",
    "import numpy as np\n",
    "import matplotlib.pyplot as plt"
   ]
  },
  {
   "cell_type": "code",
   "execution_count": 3,
   "id": "306c8513",
   "metadata": {},
   "outputs": [],
   "source": [
    "#choose\n",
    "formula = 'MoS2'\n",
    "vac = 20\n",
    "out_dir = './out/'\n",
    "name = out_dir + formula + '_PBE_gs.gpw'\n",
    "sym_path='KG'\n",
    "nP=30\n",
    "densK=0.02570193"
   ]
  },
  {
   "cell_type": "code",
   "execution_count": 4,
   "id": "c4eda727",
   "metadata": {},
   "outputs": [],
   "source": [
    "#get structure\n",
    "structure_params = {'MoS2': {'kind': '2H', 'a': 3.184, 'thickness': 3.127},\n",
    "                       'MoSe2': {'kind': '2H', 'a': 3.320, 'thickness': 3.338},\n",
    "                       'WS2': {'kind': '2H', 'a': 3.186, 'thickness': 3.359},\n",
    "                       'WSe2': {'kind': '2H', 'a': 3.319, 'thickness': 3.146},\n",
    "                       'BN': {'kind': '2H', 'a': 2.510, 'thickness': 1}}\n",
    "s = structure_params[formula]\n",
    "structure = mx2(formula=formula, kind=s['kind'], a=s['a'], thickness=s['thickness'],\n",
    "            size=(1, 1, 1), vacuum=vac)"
   ]
  },
  {
   "cell_type": "code",
   "execution_count": 5,
   "id": "e1eb774f",
   "metadata": {},
   "outputs": [],
   "source": [
    "#choose path in kspace and load converged density\n",
    "kpts = structure.cell.bandpath(path=sym_path, density=densK,\n",
    "                           pbc=structure.pbc, eps=0.1)#what was eps??\n",
    "calc = GPAW(name)"
   ]
  },
  {
   "cell_type": "code",
   "execution_count": 6,
   "id": "a93dc570",
   "metadata": {},
   "outputs": [
    {
     "data": {
      "text/plain": [
       "-20.72315819795367"
      ]
     },
     "execution_count": 6,
     "metadata": {},
     "output_type": "execute_result"
    }
   ],
   "source": [
    "#calculate bandstructure\n",
    "emptybands=13\n",
    "convbands = emptybands // 2\n",
    "parms = {\n",
    "    'basis': 'dzp',\n",
    "    'nbands': -emptybands,\n",
    "    'txt': 'bs.txt',\n",
    "    'fixdensity': True,\n",
    "    'kpts': kpts,\n",
    "    'convergence': {\n",
    "        'bands': -convbands},\n",
    "    'symmetry': 'off'}\n",
    "calc = GPAW(name, **parms)\n",
    "calc.get_potential_energy()"
   ]
  },
  {
   "cell_type": "code",
   "execution_count": 7,
   "id": "cda667cc",
   "metadata": {},
   "outputs": [],
   "source": [
    "bs = calc.band_structure()\n",
    "bs.write('formula_'+formula+'_direction_'+sym_path+'_npoints_{}_emptybands_{}_dens'.format(nP,emptybands)+'.json')"
   ]
  },
  {
   "cell_type": "code",
   "execution_count": 24,
   "id": "c25e8feb",
   "metadata": {},
   "outputs": [
    {
     "ename": "AttributeError",
     "evalue": "'function' object has no attribute 'npoints'",
     "output_type": "error",
     "traceback": [
      "\u001b[0;31m---------------------------------------------------------------------------\u001b[0m",
      "\u001b[0;31mAttributeError\u001b[0m                            Traceback (most recent call last)",
      "Input \u001b[0;32mIn [24]\u001b[0m, in \u001b[0;36m<cell line: 1>\u001b[0;34m()\u001b[0m\n\u001b[0;32m----> 1\u001b[0m \u001b[38;5;28mprint\u001b[39m(\u001b[43mstructure\u001b[49m\u001b[38;5;241;43m.\u001b[39;49m\u001b[43mcell\u001b[49m\u001b[38;5;241;43m.\u001b[39;49m\u001b[43mbandpath\u001b[49m\u001b[38;5;241;43m.\u001b[39;49m\u001b[43mnpoints\u001b[49m())\n",
      "\u001b[0;31mAttributeError\u001b[0m: 'function' object has no attribute 'npoints'"
     ]
    }
   ],
   "source": []
  }
 ],
 "metadata": {
  "kernelspec": {
   "display_name": "Python 3 (ipykernel)",
   "language": "python",
   "name": "python3"
  },
  "language_info": {
   "codemirror_mode": {
    "name": "ipython",
    "version": 3
   },
   "file_extension": ".py",
   "mimetype": "text/x-python",
   "name": "python",
   "nbconvert_exporter": "python",
   "pygments_lexer": "ipython3",
   "version": "3.8.6"
  }
 },
 "nbformat": 4,
 "nbformat_minor": 5
}
