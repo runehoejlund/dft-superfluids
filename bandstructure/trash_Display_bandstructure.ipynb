{
 "cells": [
  {
   "cell_type": "code",
   "execution_count": 1,
   "id": "7f1a9672",
   "metadata": {},
   "outputs": [
    {
     "name": "stdout",
     "output_type": "stream",
     "text": [
      "/home/niflheim/s183774/dft-superfluids/bandstructure\r\n"
     ]
    }
   ],
   "source": [
    "!pwd"
   ]
  },
  {
   "cell_type": "code",
   "execution_count": 1,
   "id": "0d7e4fe3",
   "metadata": {},
   "outputs": [],
   "source": [
    "from gpaw import GPAW, PW, FermiDirac\n",
    "from ase.io import read\n",
    "from ase.spectrum.band_structure import BandStructurePlot\n",
    "from ase.build import mx2\n",
    "import numpy as np\n",
    "import matplotlib.pyplot as plt"
   ]
  },
  {
   "cell_type": "code",
   "execution_count": 2,
   "id": "c7ffc89a",
   "metadata": {},
   "outputs": [],
   "source": [
    "#choose\n",
    "formula = 'MoS2'\n",
    "vac = 20\n",
    "out_dir = './out/'\n",
    "name = out_dir + formula + '_PBE_gs.gpw'"
   ]
  },
  {
   "cell_type": "code",
   "execution_count": 3,
   "id": "35fd7b49",
   "metadata": {},
   "outputs": [],
   "source": [
    "#get structure\n",
    "structure_params = {'MoS2': {'kind': '2H', 'a': 3.184, 'thickness': 3.127},\n",
    "                       'MoSe2': {'kind': '2H', 'a': 3.320, 'thickness': 3.338},\n",
    "                       'WS2': {'kind': '2H', 'a': 3.186, 'thickness': 3.359},\n",
    "                       'WSe2': {'kind': '2H', 'a': 3.319, 'thickness': 3.146},\n",
    "                       'BN': {'kind': '2H', 'a': 2.510, 'thickness': 1}}\n",
    "s = structure_params[formula]\n",
    "structure = mx2(formula=formula, kind=s['kind'], a=s['a'], thickness=s['thickness'],\n",
    "            size=(1, 1, 1), vacuum=vac)"
   ]
  },
  {
   "cell_type": "code",
   "execution_count": 4,
   "id": "b3d04a82",
   "metadata": {},
   "outputs": [],
   "source": [
    "#choose path in kspace and load converged density\n",
    "kpts = structure.cell.bandpath(path='MKG', npoints=30,\n",
    "                           pbc=structure.pbc, eps=0.1)#what was eps??\n",
    "calc = GPAW(name)"
   ]
  },
  {
   "cell_type": "code",
   "execution_count": 6,
   "id": "b1d132fe",
   "metadata": {},
   "outputs": [
    {
     "data": {
      "text/plain": [
       "-21.96748480667283"
      ]
     },
     "execution_count": 6,
     "metadata": {},
     "output_type": "execute_result"
    }
   ],
   "source": [
    "#calculate bandstructure\n",
    "emptybands=26\n",
    "convbands = emptybands // 2\n",
    "parms = {\n",
    "    'basis': 'dzp',\n",
    "    'nbands': -emptybands,\n",
    "    'txt': 'bs.txt',\n",
    "    'fixdensity': True,\n",
    "    'kpts': kpts,\n",
    "    'convergence': {\n",
    "        'bands': -convbands},\n",
    "    'symmetry': 'off'}\n",
    "calc = GPAW(name, **parms)\n",
    "calc.get_potential_energy()"
   ]
  },
  {
   "cell_type": "code",
   "execution_count": 9,
   "id": "24e0cb5d",
   "metadata": {},
   "outputs": [],
   "source": [
    "Ef = calc.get_fermi_level()#fermi level\n",
    "bs = calc.band_structure()"
   ]
  },
  {
   "cell_type": "code",
   "execution_count": null,
   "id": "6c0df635",
   "metadata": {},
   "outputs": [],
   "source": [
    "bs_plt = BandStructurePlot(bs)\n",
    "bs_plt.plot(emin=-6,emax=0)\n",
    "bs_plt.finish_plot(show=True)"
   ]
  },
  {
   "cell_type": "code",
   "execution_count": null,
   "id": "6134ec9f",
   "metadata": {},
   "outputs": [],
   "source": [
    "bs_plt.finish_plot(filename=False,loc=False,show=True)"
   ]
  },
  {
   "cell_type": "code",
   "execution_count": 8,
   "id": "6ad8d1b1",
   "metadata": {},
   "outputs": [
    {
     "data": {
      "text/plain": [
       "BandStructure(path=BandPath(path='Kpt0Kpt1G', cell=[3x3], special_points={AGHKKpt0Kpt1LM}, kpts=[30x3]), energies=[1x30x39 values], reference=-3.2218974665439983)"
      ]
     },
     "execution_count": 8,
     "metadata": {},
     "output_type": "execute_result"
    }
   ],
   "source": [
    "bs"
   ]
  },
  {
   "cell_type": "code",
   "execution_count": 9,
   "id": "99a46484",
   "metadata": {},
   "outputs": [],
   "source": [
    "Bands=bs.energies"
   ]
  },
  {
   "cell_type": "code",
   "execution_count": 10,
   "id": "610f0b31",
   "metadata": {},
   "outputs": [
    {
     "data": {
      "text/plain": [
       "(1, 30, 39)"
      ]
     },
     "execution_count": 10,
     "metadata": {},
     "output_type": "execute_result"
    }
   ],
   "source": [
    "np.shape(Bands)#(spin,k-points along path, number of bands=number of filled+number of empty)"
   ]
  },
  {
   "cell_type": "code",
   "execution_count": 48,
   "id": "a374ae40",
   "metadata": {},
   "outputs": [
    {
     "name": "stdout",
     "output_type": "stream",
     "text": [
      "3\n",
      "[[1 2]\n",
      " [3 4]]\n",
      "[3 4]\n"
     ]
    }
   ],
   "source": [
    "#intermezzo\n",
    "a=np.array([[1,2],[3,4]])\n",
    "print(a[1,0])\n",
    "print(a)\n",
    "print(np.max(a,axis=0))"
   ]
  },
  {
   "cell_type": "code",
   "execution_count": 11,
   "id": "bb22d4ec",
   "metadata": {
    "scrolled": true
   },
   "outputs": [
    {
     "name": "stdout",
     "output_type": "stream",
     "text": [
      "(30, 39)\n",
      "(39,)\n",
      "[-64.92997582 -39.10069287 -38.93654264 -38.93654247 -15.98777597\n",
      " -15.88676065  -8.91453835  -6.62219205  -6.50709107  -5.8070922\n",
      "  -5.52011322  -4.96029434  -4.04657295  -1.29385101  -0.81958507\n",
      "  -0.11690695   0.77202832   3.6713187    4.9942422    5.53862942\n",
      "   6.35487358   7.07692177   7.56750953   7.60005506   7.76887424\n",
      "   7.98744211   8.38806076   8.40883145   8.4089339    8.4091058\n",
      "   8.49149515   8.68093158   8.73962381   8.90579974   9.02145175\n",
      "   9.07408691   9.43302509   9.51824329   9.80053406]\n",
      "13\n"
     ]
    }
   ],
   "source": [
    "Matrix_bandcol=np.array(Bands[0,:,:])\n",
    "print(np.shape(Matrix_bandcol))\n",
    "Vec_max_of_each_band=np.max(Matrix_bandcol,axis=0)\n",
    "print(np.shape(Vec_max_of_each_band))\n",
    "print(Vec_max_of_each_band)\n",
    "#valence band is number 13!\n",
    "n_val=np.sum(Vec_max_of_each_band<Ef)\n",
    "print(n_val)"
   ]
  },
  {
   "cell_type": "code",
   "execution_count": 12,
   "id": "52ad498a",
   "metadata": {},
   "outputs": [],
   "source": [
    "band_valence=Matrix_bandcol[:,n_val-1]\n",
    "band_conduction=Matrix_bandcol[:,n_val]"
   ]
  },
  {
   "cell_type": "code",
   "execution_count": null,
   "id": "7961e1db",
   "metadata": {},
   "outputs": [],
   "source": [
    "#print(bs.path.kpts)\n",
    "#plt.plot(range(len(band_valence)),band_valence)\n",
    "#plt.plot(range(len(band_valence)),band_conduction)\n",
    "#plt.show()"
   ]
  },
  {
   "cell_type": "code",
   "execution_count": 10,
   "id": "ef159340",
   "metadata": {},
   "outputs": [
    {
     "data": {
      "text/plain": [
       "array([[ 0.5       , -0.5       ,  0.        ],\n",
       "       [ 0.48148148, -0.51851852,  0.        ],\n",
       "       [ 0.46296296, -0.53703704,  0.        ],\n",
       "       [ 0.44444444, -0.55555556,  0.        ],\n",
       "       [ 0.42592593, -0.57407407,  0.        ],\n",
       "       [ 0.40740741, -0.59259259,  0.        ],\n",
       "       [ 0.38888889, -0.61111111,  0.        ],\n",
       "       [ 0.37037037, -0.62962963,  0.        ],\n",
       "       [ 0.35185185, -0.64814815,  0.        ],\n",
       "       [ 0.33333333, -0.66666667,  0.        ],\n",
       "       [ 0.31666667, -0.63333333,  0.        ],\n",
       "       [ 0.3       , -0.6       ,  0.        ],\n",
       "       [ 0.28333333, -0.56666667,  0.        ],\n",
       "       [ 0.26666667, -0.53333333,  0.        ],\n",
       "       [ 0.25      , -0.5       ,  0.        ],\n",
       "       [ 0.23333333, -0.46666667,  0.        ],\n",
       "       [ 0.21666667, -0.43333333,  0.        ],\n",
       "       [ 0.2       , -0.4       ,  0.        ],\n",
       "       [ 0.18333333, -0.36666667,  0.        ],\n",
       "       [ 0.16666667, -0.33333333,  0.        ],\n",
       "       [ 0.15      , -0.3       ,  0.        ],\n",
       "       [ 0.13333333, -0.26666667,  0.        ],\n",
       "       [ 0.11666667, -0.23333333,  0.        ],\n",
       "       [ 0.1       , -0.2       ,  0.        ],\n",
       "       [ 0.08333333, -0.16666667,  0.        ],\n",
       "       [ 0.06666667, -0.13333333,  0.        ],\n",
       "       [ 0.05      , -0.1       ,  0.        ],\n",
       "       [ 0.03333333, -0.06666667,  0.        ],\n",
       "       [ 0.01666667, -0.03333333,  0.        ],\n",
       "       [ 0.        ,  0.        ,  0.        ]])"
      ]
     },
     "execution_count": 10,
     "metadata": {},
     "output_type": "execute_result"
    }
   ],
   "source": [
    "bs.path.kpts"
   ]
  },
  {
   "cell_type": "code",
   "execution_count": null,
   "id": "c5c32c40",
   "metadata": {},
   "outputs": [],
   "source": [
    "bs.plot(show=True)"
   ]
  },
  {
   "cell_type": "code",
   "execution_count": 8,
   "id": "5d35790e",
   "metadata": {},
   "outputs": [],
   "source": [
    "#bs.write('MoS2_bs_early.json')"
   ]
  }
 ],
 "metadata": {
  "kernelspec": {
   "display_name": "Python 3 (ipykernel)",
   "language": "python",
   "name": "python3"
  },
  "language_info": {
   "codemirror_mode": {
    "name": "ipython",
    "version": 3
   },
   "file_extension": ".py",
   "mimetype": "text/x-python",
   "name": "python",
   "nbconvert_exporter": "python",
   "pygments_lexer": "ipython3",
   "version": "3.8.6"
  }
 },
 "nbformat": 4,
 "nbformat_minor": 5
}
