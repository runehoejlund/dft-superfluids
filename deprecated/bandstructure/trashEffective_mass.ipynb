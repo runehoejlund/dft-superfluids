{
 "cells": [
  {
   "cell_type": "code",
   "execution_count": 46,
   "id": "8109bd63",
   "metadata": {},
   "outputs": [],
   "source": [
    "#import important stuff\n",
    "from gpaw import GPAW, PW, FermiDirac\n",
    "from ase.io import read\n",
    "from ase.spectrum.band_structure import BandStructurePlot\n",
    "from ase.spectrum.band_structure import BandStructure\n",
    "from ase.build import mx2\n",
    "import numpy as np\n",
    "import matplotlib.pyplot as plt"
   ]
  },
  {
   "cell_type": "code",
   "execution_count": 47,
   "id": "9c775561",
   "metadata": {},
   "outputs": [],
   "source": [
    "formula = 'MoS2'\n",
    "sym_path='KM'\n",
    "bs1=BandStructure.read('formula_'+formula+'_direction_'+sym_path+'.json')\n",
    "sym_path='KG'\n",
    "bs2=BandStructure.read('formula_'+formula+'_direction_'+sym_path+'.json')"
   ]
  },
  {
   "cell_type": "code",
   "execution_count": 32,
   "id": "b521336d",
   "metadata": {},
   "outputs": [
    {
     "data": {
      "text/plain": [
       "BandStructure(path=BandPath(path='Kpt0G', cell=[3x3], special_points={AGHKKpt0LM}, kpts=[30x3]), energies=[1x30x39 values], reference=-3.2218974665440108)"
      ]
     },
     "execution_count": 32,
     "metadata": {},
     "output_type": "execute_result"
    }
   ],
   "source": [
    "bs2"
   ]
  },
  {
   "cell_type": "code",
   "execution_count": 33,
   "id": "385dbc91",
   "metadata": {},
   "outputs": [
    {
     "data": {
      "text/plain": [
       "BandStructure(path=BandPath(path='Kpt0Kpt1', cell=[3x3], special_points={AGHKKpt0Kpt1LM}, kpts=[30x3]), energies=[1x30x39 values], reference=-3.229762968666191)"
      ]
     },
     "execution_count": 33,
     "metadata": {},
     "output_type": "execute_result"
    }
   ],
   "source": [
    "bs1"
   ]
  },
  {
   "cell_type": "code",
   "execution_count": 48,
   "id": "2da4a10a",
   "metadata": {},
   "outputs": [],
   "source": [
    "Nkpt=np.shape(bs1.energies)[1]\n",
    "kPath1=bs1.path.kpts\n",
    "kDiff1=kPath1-kPath1[0]\n",
    "kPath2=bs2.path.kpts\n",
    "kDiff2=kPath2-kPath1[0]\n",
    "DeltaK_mag1=np.zeros((Nkpt))\n",
    "DeltaK_mag2=np.zeros((Nkpt))\n",
    "test_K=np.zeros((Nkpt))\n",
    "for i in range(Nkpt):\n",
    "    DeltaK_mag1[i]=np.sqrt((kPath1[i,0]-kPath1[0,0])**2+(kPath1[i,1]-kPath1[0,1])**2+(kPath1[i,2]-kPath1[0,2])**2)\n",
    "    DeltaK_mag2[i]=np.sqrt((kPath2[i,0]-kPath2[0,0])**2+(kPath2[i,1]-kPath2[0,1])**2+(kPath2[i,2]-kPath2[0,2])**2)\n",
    "    test_K[i]=np.linalg.norm(kDiff1[i])\n",
    "#print(DeltaK_mag)\n",
    "#print(test_K)#regner rigtig:)"
   ]
  },
  {
   "cell_type": "code",
   "execution_count": 49,
   "id": "db930be5",
   "metadata": {},
   "outputs": [],
   "source": [
    "energybands1=bs1.energies[0]\n",
    "valenceBand1=energybands1[:,12]\n",
    "conductionBand1=energybands1[:,13]\n",
    "energybands2=bs2.energies[0]\n",
    "valenceBand2=energybands2[:,12]\n",
    "conductionBand2=energybands2[:,13]"
   ]
  },
  {
   "cell_type": "code",
   "execution_count": 58,
   "id": "b6bf531c",
   "metadata": {},
   "outputs": [],
   "source": [
    "#choose a cut off\n",
    "k_cut=0.15\n",
    "bool_k1=DeltaK_mag1<k_cut\n",
    "bool_k2=DeltaK_mag2<k_cut\n",
    "DeltaK_cut1=DeltaK_mag1[bool_k1]\n",
    "valenceBand_cut1=valenceBand1[bool_k1]\n",
    "conductionBand_cut1=conductionBand1[bool_k1]\n",
    "DeltaK_cut2=DeltaK_mag2[bool_k2]\n",
    "valenceBand_cut2=valenceBand2[bool_k2]\n",
    "conductionBand_cut2=conductionBand2[bool_k2]"
   ]
  },
  {
   "cell_type": "code",
   "execution_count": 59,
   "id": "ab24ff1c",
   "metadata": {},
   "outputs": [
    {
     "name": "stdout",
     "output_type": "stream",
     "text": [
      "[-0.14629795 -0.13817029 -0.13004263 -0.12191496 -0.1137873  -0.10565963\n",
      " -0.09753197 -0.08940431 -0.08127664 -0.07314898 -0.06502131 -0.05689365\n",
      " -0.04876598 -0.04063832 -0.03251066 -0.02438299 -0.01625533 -0.00812766\n",
      " -0.          0.00812766  0.01625533  0.02438299  0.03251066  0.04063832\n",
      "  0.04876598  0.05689365  0.06502131  0.07314898  0.08127664  0.08940431\n",
      "  0.09753197  0.10565963  0.1137873   0.12191496  0.13004263  0.13817029\n",
      "  0.14629795]\n",
      "[-4.42393209 -4.40597721 -4.38786951 -4.36921895 -4.34969913 -4.32905951\n",
      " -4.30715403 -4.28393397 -4.25946901 -4.23396363 -4.20775385 -4.18133495\n",
      " -4.15536034 -4.13063008 -4.1080909  -4.08878939 -4.07380998 -4.06419507\n",
      " -4.06083408 -4.06419507 -4.07380998 -4.08878939 -4.1080909  -4.13063008\n",
      " -4.15536034 -4.18133495 -4.20775385 -4.23396363 -4.25946901 -4.28393397\n",
      " -4.30715403 -4.32905951 -4.34969913 -4.36921895 -4.38786951 -4.40597721\n",
      " -4.42393209]\n",
      "[-1.85656711 -1.87660429 -1.90083811 -1.92894506 -1.96050869 -1.99507274\n",
      " -2.032132   -2.07111801 -2.11142253 -2.15236023 -2.19318185 -2.23304383\n",
      " -2.27101348 -2.30607401 -2.3371209  -2.36301336 -2.38262897 -2.39496019\n",
      " -2.39920275 -2.39496019 -2.38262897 -2.36301336 -2.3371209  -2.30607401\n",
      " -2.27101348 -2.23304383 -2.19318185 -2.15236023 -2.11142253 -2.07111801\n",
      " -2.032132   -1.99507274 -1.96050869 -1.92894506 -1.90083811 -1.87660429\n",
      " -1.85656711]\n",
      "[-0.12850965 -0.10280772 -0.07710579 -0.05140386 -0.02570193 -0.\n",
      "  0.02570193  0.05140386  0.07710579  0.10280772  0.12850965]\n",
      "[-4.35605552 -4.26535808 -4.18314369 -4.11725894 -4.07504181 -4.06083408\n",
      " -4.07504181 -4.11725894 -4.18314369 -4.26535808 -4.35605552]\n",
      "[-2.06645245 -2.16262852 -2.25486776 -2.33144468 -2.38184421 -2.39920275\n",
      " -2.38184421 -2.33144468 -2.25486776 -2.16262852 -2.06645245]\n"
     ]
    }
   ],
   "source": [
    "kVec1=np.concatenate((np.sort(-DeltaK_cut1),DeltaK_cut1[1:]))\n",
    "valVec1=np.concatenate((np.sort(valenceBand_cut1),valenceBand_cut1[1:]))\n",
    "conVec1=np.concatenate((-np.sort(-conductionBand_cut1),conductionBand_cut1[1:]))\n",
    "print(kVec1)\n",
    "print(valVec1)\n",
    "print(conVec1)\n",
    "kVec2=np.concatenate((np.sort(-DeltaK_cut2),DeltaK_cut2[1:]))\n",
    "valVec2=np.concatenate((np.sort(valenceBand_cut2),valenceBand_cut2[1:]))\n",
    "conVec2=np.concatenate((-np.sort(-conductionBand_cut2),conductionBand_cut2[1:]))\n",
    "print(kVec2)\n",
    "print(valVec2)\n",
    "print(conVec2)"
   ]
  },
  {
   "cell_type": "code",
   "execution_count": 60,
   "id": "561ae9f5",
   "metadata": {},
   "outputs": [
    {
     "name": "stdout",
     "output_type": "stream",
     "text": [
      "27.211386024367243\n",
      "0.5291772105638411\n"
     ]
    }
   ],
   "source": [
    "#units\n",
    "import ase.units\n",
    "Hartree = ase.units.Hartree#Hartree energy\n",
    "Bohr = ase.units.Bohr#Bohr radius\n",
    "print(Hartree)\n",
    "print(Bohr)"
   ]
  },
  {
   "cell_type": "code",
   "execution_count": 61,
   "id": "35a5db25",
   "metadata": {},
   "outputs": [
    {
     "name": "stdout",
     "output_type": "stream",
     "text": [
      "[-4.10779337  0.79096035]\n",
      "[-2.33837745  0.51316637]\n",
      "[-4.06867152  0.76099371]\n",
      "[-2.38692153  0.67602257]\n"
     ]
    }
   ],
   "source": [
    "#fit\n",
    "from scipy.optimize import curve_fit\n",
    "yValData1=valVec1\n",
    "yConData1=conVec1\n",
    "yValData2=valVec2\n",
    "yConData2=conVec2\n",
    "#fit function\n",
    "atomUnit_to_eV=Hartree\n",
    "Aang_to_atomUnit=1/Bohr\n",
    "#apparently k is already in atomic units!!!\n",
    "def val_band(k,A1,m_eff_h):\n",
    "    return A1-atomUnit_to_eV*(k)**2/(2*m_eff_h)\n",
    "def con_band(k,A1,m_eff_e):\n",
    "    return A1+atomUnit_to_eV*(k)**2/(2*m_eff_e)\n",
    "parametersVal1, _ = curve_fit(val_band, kVec1, yValData1)\n",
    "parametersCon1, _ = curve_fit(con_band, kVec1, yConData1)\n",
    "print(parametersVal1)\n",
    "print(parametersCon1)\n",
    "parametersVal2, _ = curve_fit(val_band, kVec2, yValData2)\n",
    "parametersCon2, _ = curve_fit(con_band, kVec2, yConData2)\n",
    "print(parametersVal2)\n",
    "print(parametersCon2)\n",
    "\n",
    "#fit_val=val_band(xData,parameters1[0],parameters1[1])\n",
    "#fit_con=con_band(xData,parameters2[0],parameters2[1])\n",
    "#print(fit_val)\n",
    "#print(valVec)\n",
    "#print(fit_con)"
   ]
  },
  {
   "cell_type": "code",
   "execution_count": null,
   "id": "7016a2ed",
   "metadata": {},
   "outputs": [],
   "source": [
    "plt.plot(DeltaK_mag,valenceBand)\n",
    "plt.plot(DeltaK_mag,conductionBand)\n",
    "plt.legend(['Valence band','Conduction band'])\n",
    "plt.xlabel('Delta k')\n",
    "plt.ylabel('E')\n",
    "plt.show()"
   ]
  },
  {
   "cell_type": "code",
   "execution_count": null,
   "id": "d89090d8",
   "metadata": {},
   "outputs": [],
   "source": [
    "plt.plot(DeltaK_cut,valenceBand_cut)\n",
    "plt.plot(DeltaK_cut,conductionBand_cut)\n",
    "plt.legend(['Valence band','Conduction band'])\n",
    "plt.xlabel('Delta k')\n",
    "plt.ylabel('E')\n",
    "plt.show()"
   ]
  },
  {
   "cell_type": "code",
   "execution_count": 24,
   "id": "cb59e5b5",
   "metadata": {},
   "outputs": [
    {
     "name": "stdout",
     "output_type": "stream",
     "text": [
      "2\n",
      "-4.060834081466296\n"
     ]
    }
   ],
   "source": [
    "print(len(DeltaK_cut))\n",
    "print(valVec[len(DeltaK_cut)-1])\n",
    "#ser godt ud"
   ]
  },
  {
   "cell_type": "code",
   "execution_count": null,
   "id": "5ef453db",
   "metadata": {},
   "outputs": [],
   "source": [
    "plt.plot(kVec,valVec)\n",
    "plt.plot(kVec,conVec)\n",
    "plt.legend(['Valence band','Conduction band'])\n",
    "plt.xlabel('Delta k')\n",
    "plt.ylabel('E')\n",
    "plt.show()"
   ]
  },
  {
   "cell_type": "code",
   "execution_count": 20,
   "id": "5c0f3575",
   "metadata": {},
   "outputs": [
    {
     "name": "stdout",
     "output_type": "stream",
     "text": [
      "[0.         0.00812766 0.01625533 0.02438299 0.03251066 0.04063832\n",
      " 0.04876598 0.05689365 0.06502131 0.07314898 0.08127664 0.08940431]\n",
      "[-0.08940431 -0.08127664 -0.07314898 -0.06502131 -0.05689365 -0.04876598\n",
      " -0.04063832 -0.03251066 -0.02438299 -0.01625533 -0.00812766 -0.\n",
      "  0.          0.00812766  0.01625533  0.02438299  0.03251066  0.04063832\n",
      "  0.04876598  0.05689365  0.06502131  0.07314898  0.08127664]\n",
      "[-4.28393397 -4.25946901 -4.23396363 -4.20775385 -4.18133495 -4.15536034\n",
      " -4.13063008 -4.1080909  -4.08878939 -4.07380998 -4.06419507 -4.06083408\n",
      " -4.06083408 -4.06419507 -4.07380998 -4.08878939 -4.1080909  -4.13063008\n",
      " -4.15536034 -4.18133495 -4.20775385 -4.23396363 -4.25946901]\n",
      "[-2.07111801 -2.11142253 -2.15236023 -2.19318185 -2.23304383 -2.27101348\n",
      " -2.30607401 -2.3371209  -2.36301336 -2.38262897 -2.39496019 -2.39920275\n",
      " -2.39920275 -2.39496019 -2.38262897 -2.36301336 -2.3371209  -2.30607401\n",
      " -2.27101348 -2.23304383 -2.19318185 -2.15236023 -2.11142253]\n",
      "23\n"
     ]
    }
   ],
   "source": [
    "#symmetric plot\n",
    "#N_cut=len(DeltaK_cut)\n",
    "#N=2*N_cut-1\n",
    "#kVec=np.zeros((N))\n",
    "#valVec=np.zeros((N))\n",
    "#conVec=np.zeros((N))\n",
    "#count=-1\n",
    "#for i in range(N):\n",
    "#    if i<N_cut:\n",
    "#        kVec[i]=-DeltaK_cut[-1-i]\n",
    "#        valVec[i]=valenceBand_cut[-1-i]\n",
    "#        conVec[i]=conductionBand_cut[-1-i]\n",
    "#    else:\n",
    "#        count+=1\n",
    "#        kVec[i]=DeltaK_cut[count]\n",
    "#        valVec[i]=valenceBand_cut[count]\n",
    "#        conVec[i]=conductionBand_cut[count]\n",
    "#print(DeltaK_cut)\n",
    "#print(kVec)\n",
    "#print(valVec)\n",
    "#print(conVec)\n",
    "#print(len(kVec))\n",
    "#"
   ]
  }
 ],
 "metadata": {
  "kernelspec": {
   "display_name": "Python 3 (ipykernel)",
   "language": "python",
   "name": "python3"
  },
  "language_info": {
   "codemirror_mode": {
    "name": "ipython",
    "version": 3
   },
   "file_extension": ".py",
   "mimetype": "text/x-python",
   "name": "python",
   "nbconvert_exporter": "python",
   "pygments_lexer": "ipython3",
   "version": "3.8.6"
  }
 },
 "nbformat": 4,
 "nbformat_minor": 5
}
