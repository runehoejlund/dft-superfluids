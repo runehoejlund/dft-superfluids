{
 "cells": [
  {
   "cell_type": "code",
   "execution_count": null,
   "id": "7f1a9672",
   "metadata": {},
   "outputs": [],
   "source": [
    "!pwd"
   ]
  },
  {
   "cell_type": "code",
   "execution_count": null,
   "id": "c7ffc89a",
   "metadata": {},
   "outputs": [],
   "source": [
    "#choose\n",
    "formula = 'MoS2'\n",
    "vac = 20\n",
    "out_dir = './out/'\n",
    "name = out_dir + formula + '_PBE_gs.gpw'\n",
    "\n",
    "from gpaw import GPAW, PW, FermiDirac\n",
    "from ase.io import read\n",
    "from ase.build import mx2"
   ]
  },
  {
   "cell_type": "code",
   "execution_count": 3,
   "id": "35fd7b49",
   "metadata": {},
   "outputs": [],
   "source": [
    "#get structure\n",
    "structure_params = {'MoS2': {'kind': '2H', 'a': 3.184, 'thickness': 3.127},\n",
    "                       'MoSe2': {'kind': '2H', 'a': 3.320, 'thickness': 3.338},\n",
    "                       'WS2': {'kind': '2H', 'a': 3.186, 'thickness': 3.359},\n",
    "                       'WSe2': {'kind': '2H', 'a': 3.319, 'thickness': 3.146},\n",
    "                       'BN': {'kind': '2H', 'a': 2.510, 'thickness': 1}}\n",
    "s = structure_params[formula]\n",
    "structure = mx2(formula=formula, kind=s['kind'], a=s['a'], thickness=s['thickness'],\n",
    "            size=(1, 1, 1), vacuum=vac)"
   ]
  },
  {
   "cell_type": "code",
   "execution_count": 4,
   "id": "b3d04a82",
   "metadata": {},
   "outputs": [],
   "source": [
    "#choose path in kspace and load converged density\n",
    "kpts = structure.cell.bandpath(path='GMKG', npoints=30,\n",
    "                           pbc=structure.pbc, eps=0.1)#what was eps??\n",
    "calc = GPAW(name)"
   ]
  },
  {
   "cell_type": "code",
   "execution_count": 5,
   "id": "b1d132fe",
   "metadata": {},
   "outputs": [
    {
     "data": {
      "text/plain": [
       "-21.212575465323194"
      ]
     },
     "execution_count": 5,
     "metadata": {},
     "output_type": "execute_result"
    }
   ],
   "source": [
    "#calculate bandstructure\n",
    "emptybands=30\n",
    "convbands = emptybands // 2\n",
    "parms = {\n",
    "    'basis': 'dzp',\n",
    "    'nbands': -emptybands,\n",
    "    'txt': 'bs.txt',\n",
    "    'fixdensity': True,\n",
    "    'kpts': kpts,\n",
    "    'convergence': {\n",
    "        'bands': -convbands},\n",
    "    'symmetry': 'off'}\n",
    "calc = GPAW(name, **parms)\n",
    "calc.get_potential_energy()"
   ]
  },
  {
   "cell_type": "code",
   "execution_count": 6,
   "id": "f7f3f06a",
   "metadata": {},
   "outputs": [],
   "source": [
    "bs = calc.band_structure()"
   ]
  },
  {
   "cell_type": "code",
   "execution_count": null,
   "id": "c5c32c40",
   "metadata": {},
   "outputs": [],
   "source": [
    "bs.plot(show=True)"
   ]
  },
  {
   "cell_type": "code",
   "execution_count": 8,
   "id": "5d35790e",
   "metadata": {},
   "outputs": [],
   "source": [
    "bs.write('MoS2_bs_early.json')"
   ]
  }
 ],
 "metadata": {
  "kernelspec": {
   "display_name": "Python 3 (ipykernel)",
   "language": "python",
   "name": "python3"
  },
  "language_info": {
   "codemirror_mode": {
    "name": "ipython",
    "version": 3
   },
   "file_extension": ".py",
   "mimetype": "text/x-python",
   "name": "python",
   "nbconvert_exporter": "python",
   "pygments_lexer": "ipython3",
   "version": "3.8.6"
  }
 },
 "nbformat": 4,
 "nbformat_minor": 5
}
