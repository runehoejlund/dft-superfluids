{
 "cells": [
  {
   "cell_type": "code",
   "execution_count": 21,
   "id": "3773e358",
   "metadata": {},
   "outputs": [
    {
     "name": "stdout",
     "output_type": "stream",
     "text": [
      "[-0.02570193 -0.          0.02570193]\n",
      "[-4.07504181 -4.06083408 -4.07504181]\n",
      "[-2.38184421 -2.39920275 -2.38184421]\n",
      "[-4.06083408  0.63259741]\n",
      "[-2.39920275  0.51777258]\n",
      "[-4.07504181 -4.06083408 -4.07504181]\n",
      "[-2.38184421 -2.39920275 -2.38184421]\n"
     ]
    }
   ],
   "source": [
    "#import important stuff\n",
    "from gpaw import GPAW, PW, FermiDirac\n",
    "from ase.io import read\n",
    "from ase.spectrum.band_structure import BandStructurePlot\n",
    "from ase.spectrum.band_structure import BandStructure\n",
    "from ase.build import mx2\n",
    "import numpy as np\n",
    "import matplotlib.pyplot as plt\n",
    "import ase.units\n",
    "Hartree = ase.units.Hartree#Hartree energy\n",
    "Bohr = ase.units.Bohr#Bohr radius\n",
    "#\n",
    "formula = 'MoS2'\n",
    "sym_path='KG'\n",
    "nP=30\n",
    "emptybands=13\n",
    "bs1=BandStructure.read('formula_'+formula+'_direction_'+sym_path+'_npoints_{}_emptybands_{}'.format(nP,emptybands)+'.json')\n",
    "#\n",
    "Nkpt=np.shape(bs1.energies)[1]\n",
    "kPath=bs1.path.kpts\n",
    "kDiff=kPath-kPath[0]\n",
    "DeltaK_mag=np.zeros((Nkpt))\n",
    "for i in range(Nkpt):\n",
    "    DeltaK_mag[i]=np.sqrt((kPath[i,0]-kPath[0,0])**2+(kPath[i,1]-kPath[0,1])**2+(kPath[i,2]-kPath[0,2])**2)\n",
    "#\n",
    "energybands=bs1.energies[0]\n",
    "valenceBand=energybands[:,12]\n",
    "conductionBand=energybands[:,13]\n",
    "#choose a cut off\n",
    "k_cut=0.03\n",
    "bool_k=DeltaK_mag<k_cut\n",
    "DeltaK_cut=DeltaK_mag[bool_k]\n",
    "valenceBand_cut=valenceBand[bool_k]\n",
    "conductionBand_cut=conductionBand[bool_k]\n",
    "#\n",
    "kVec=np.concatenate((np.sort(-DeltaK_cut),DeltaK_cut[1:]))\n",
    "valVec=np.concatenate((np.sort(valenceBand_cut),valenceBand_cut[1:]))\n",
    "conVec=np.concatenate((-np.sort(-conductionBand_cut),conductionBand_cut[1:]))\n",
    "print(kVec)\n",
    "print(valVec)\n",
    "print(conVec)\n",
    "#\n",
    "#fit\n",
    "from scipy.optimize import curve_fit\n",
    "xData=kVec\n",
    "y1Data=valVec\n",
    "y2Data=conVec\n",
    "#fit function\n",
    "atomUnit_to_eV=Hartree\n",
    "Aang_to_atomUnit=1/Bohr\n",
    "#apparently k is already in atomic units!!!\n",
    "def val_band(x,A1,m_eff_h):\n",
    "    return A1-atomUnit_to_eV*(x)**2/(2*m_eff_h)\n",
    "def con_band(x,A1,m_eff_e):\n",
    "    return A1+atomUnit_to_eV*(x)**2/(2*m_eff_e)\n",
    "parameters1, _ = curve_fit(val_band, xData, y1Data)\n",
    "parameters2, _ = curve_fit(con_band, xData, y2Data)\n",
    "print(parameters1)\n",
    "print(parameters2)\n",
    "fit_val=val_band(xData,parameters1[0],parameters1[1])\n",
    "fit_con=con_band(xData,parameters2[0],parameters2[1])\n",
    "print(fit_val)\n",
    "#print(valVec)\n",
    "print(fit_con)"
   ]
  },
  {
   "cell_type": "code",
   "execution_count": 16,
   "id": "21f7dbae",
   "metadata": {},
   "outputs": [],
   "source": [
    "plt.plot(kVec,valVec,'r-*')\n",
    "plt.plot(kVec,fit_val,'b-*')\n",
    "plt.legend(['Data','Fit'])\n",
    "plt.xlabel('Delta k')\n",
    "plt.ylabel('E [eV]')\n",
    "plt.title('Effective h-mass: {}'.format(parameters1[1]))\n",
    "plt.savefig('./plots/valFit_{}_sym_{}_npoints_{}_emptybands{}.svg'.format(formula,sym_path,nP,emptybands))\n",
    "plt.close()\n",
    "\n",
    "plt.plot(kVec,conVec,'r-*')\n",
    "plt.plot(kVec,fit_con,'b-*')\n",
    "plt.legend(['Data','Fit'])\n",
    "plt.xlabel('Delta k')\n",
    "plt.ylabel('E [eV]')\n",
    "plt.title('Effective e-mass: {}'.format(parameters2[1]))\n",
    "plt.savefig('./plots/conFit_{}_sym_{}_npoints_{}_emptybands_{}.svg'.format(formula,sym_path,nP,emptybands))\n",
    "plt.close()"
   ]
  },
  {
   "cell_type": "code",
   "execution_count": 22,
   "id": "e1499756",
   "metadata": {},
   "outputs": [
    {
     "name": "stdout",
     "output_type": "stream",
     "text": [
      "0.5177725776140991 0.6325974117525929\n"
     ]
    }
   ],
   "source": [
    "#der er et problem for KM. Jeg ved ikke hvorfor, men det er en god anledning til at finde 2nd derivative og bruge den\n",
    "DeltaK_quan=DeltaK_mag[1]\n",
    "Dev2_val=2*(valenceBand[1]-valenceBand[0])/DeltaK_quan**2\n",
    "Dev2_con=2*(conductionBand[1]-conductionBand[0])/DeltaK_quan**2\n",
    "#valenceBand=energybands[:,12]\n",
    "#conductionBand=energybands[:,13]\n",
    "m_eff_e=atomUnit_to_eV/Dev2_con\n",
    "m_eff_h=-atomUnit_to_eV/Dev2_val\n",
    "print(m_eff_e,m_eff_h)\n",
    "#it works!!"
   ]
  }
 ],
 "metadata": {
  "kernelspec": {
   "display_name": "Python 3 (ipykernel)",
   "language": "python",
   "name": "python3"
  },
  "language_info": {
   "codemirror_mode": {
    "name": "ipython",
    "version": 3
   },
   "file_extension": ".py",
   "mimetype": "text/x-python",
   "name": "python",
   "nbconvert_exporter": "python",
   "pygments_lexer": "ipython3",
   "version": "3.8.6"
  }
 },
 "nbformat": 4,
 "nbformat_minor": 5
}
