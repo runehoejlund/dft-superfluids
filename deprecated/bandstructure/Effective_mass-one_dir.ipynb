{
 "cells": [
  {
   "cell_type": "code",
   "execution_count": 152,
   "id": "8109bd63",
   "metadata": {},
   "outputs": [],
   "source": [
    "#import important stuff\n",
    "from gpaw import GPAW, PW, FermiDirac\n",
    "from ase.io import read\n",
    "from ase.spectrum.band_structure import BandStructurePlot\n",
    "from ase.spectrum.band_structure import BandStructure\n",
    "from ase.build import mx2\n",
    "import numpy as np\n",
    "import matplotlib.pyplot as plt"
   ]
  },
  {
   "cell_type": "code",
   "execution_count": 153,
   "id": "9c775561",
   "metadata": {},
   "outputs": [],
   "source": [
    "formula = 'MoS2'\n",
    "sym_path='KG'\n",
    "nP=30\n",
    "emptybands=13\n",
    "bs1=BandStructure.read('formula_'+formula+'_direction_'+sym_path+'_npoints_{}_emptybands_{}'.format(nP,emptybands)+'.json')"
   ]
  },
  {
   "cell_type": "code",
   "execution_count": 143,
   "id": "b521336d",
   "metadata": {},
   "outputs": [
    {
     "data": {
      "text/plain": [
       "BandStructure(path=BandPath(path='Kpt0G', cell=[3x3], special_points={AGHKKpt0LM}, kpts=[60x3]), energies=[1x60x39 values], reference=-3.221897466544023)"
      ]
     },
     "execution_count": 143,
     "metadata": {},
     "output_type": "execute_result"
    }
   ],
   "source": [
    "bs1"
   ]
  },
  {
   "cell_type": "code",
   "execution_count": 72,
   "id": "211fea10",
   "metadata": {},
   "outputs": [
    {
     "data": {
      "text/plain": [
       "BandStructure(path=BandPath(path='Kpt0G', cell=[3x3], special_points={AGHKKpt0LM}, kpts=[2x3]), energies=[1x2x26 values], reference=-3.221015198565162)"
      ]
     },
     "execution_count": 72,
     "metadata": {},
     "output_type": "execute_result"
    }
   ],
   "source": [
    "#bs1_dens"
   ]
  },
  {
   "cell_type": "code",
   "execution_count": 144,
   "id": "2da4a10a",
   "metadata": {},
   "outputs": [],
   "source": [
    "Nkpt=np.shape(bs1.energies)[1]\n",
    "kPath=bs1.path.kpts\n",
    "kDiff=kPath-kPath[0]\n",
    "DeltaK_mag=np.zeros((Nkpt))\n",
    "test_K=np.zeros((Nkpt))\n",
    "for i in range(Nkpt):\n",
    "    DeltaK_mag[i]=np.sqrt((kPath[i,0]-kPath[0,0])**2+(kPath[i,1]-kPath[0,1])**2+(kPath[i,2]-kPath[0,2])**2)\n",
    "    test_K[i]=np.linalg.norm(kDiff[i])\n",
    "#print(DeltaK_mag)\n",
    "#print(test_K)#regner rigtig:)"
   ]
  },
  {
   "cell_type": "code",
   "execution_count": 145,
   "id": "db930be5",
   "metadata": {},
   "outputs": [],
   "source": [
    "energybands=bs1.energies[0]\n",
    "np.shape(energybands)\n",
    "valenceBand=energybands[:,12]\n",
    "conductionBand=energybands[:,13]"
   ]
  },
  {
   "cell_type": "code",
   "execution_count": 146,
   "id": "b6bf531c",
   "metadata": {},
   "outputs": [],
   "source": [
    "#choose a cut off\n",
    "k_cut=0.015\n",
    "bool_k=DeltaK_mag<k_cut\n",
    "DeltaK_cut=DeltaK_mag[bool_k]\n",
    "valenceBand_cut=valenceBand[bool_k]\n",
    "conductionBand_cut=conductionBand[bool_k]"
   ]
  },
  {
   "cell_type": "code",
   "execution_count": 147,
   "id": "ab24ff1c",
   "metadata": {},
   "outputs": [
    {
     "name": "stdout",
     "output_type": "stream",
     "text": [
      "[-0.01263315 -0.          0.01263315]\n",
      "[-4.0642329  -4.06083408 -4.0642329 ]\n",
      "[-2.39500485 -2.39920275 -2.39500485]\n"
     ]
    }
   ],
   "source": [
    "kVec=np.concatenate((np.sort(-DeltaK_cut),DeltaK_cut[1:]))\n",
    "valVec=np.concatenate((np.sort(valenceBand_cut),valenceBand_cut[1:]))\n",
    "conVec=np.concatenate((-np.sort(-conductionBand_cut),conductionBand_cut[1:]))\n",
    "print(kVec)\n",
    "print(valVec)\n",
    "print(conVec)"
   ]
  },
  {
   "cell_type": "code",
   "execution_count": 97,
   "id": "561ae9f5",
   "metadata": {},
   "outputs": [
    {
     "name": "stdout",
     "output_type": "stream",
     "text": [
      "27.211386024367243\n",
      "0.5291772105638411\n"
     ]
    }
   ],
   "source": [
    "#units\n",
    "import ase.units\n",
    "Hartree = ase.units.Hartree#Hartree energy\n",
    "Bohr = ase.units.Bohr#Bohr radius\n",
    "print(Hartree)\n",
    "print(Bohr)"
   ]
  },
  {
   "cell_type": "code",
   "execution_count": 148,
   "id": "35a5db25",
   "metadata": {},
   "outputs": [
    {
     "name": "stdout",
     "output_type": "stream",
     "text": [
      "[-4.06083408  0.63887512]\n",
      "[-2.39920275  0.51726437]\n",
      "[-4.0642329  -4.06083408 -4.0642329 ]\n",
      "[-2.39500485 -2.39920275 -2.39500485]\n"
     ]
    }
   ],
   "source": [
    "#fit\n",
    "from scipy.optimize import curve_fit\n",
    "xData=kVec\n",
    "y1Data=valVec\n",
    "y2Data=conVec\n",
    "#fit function\n",
    "atomUnit_to_eV=Hartree\n",
    "Aang_to_atomUnit=1/Bohr\n",
    "#apparently k is already in atomic units!!!\n",
    "def val_band(x,A1,m_eff_h):\n",
    "    return A1-atomUnit_to_eV*(x)**2/(2*m_eff_h)\n",
    "def con_band(x,A1,m_eff_e):\n",
    "    return A1+atomUnit_to_eV*(x)**2/(2*m_eff_e)\n",
    "parameters1, _ = curve_fit(val_band, xData, y1Data)\n",
    "parameters2, _ = curve_fit(con_band, xData, y2Data)\n",
    "print(parameters1)\n",
    "print(parameters2)\n",
    "fit_val=val_band(xData,parameters1[0],parameters1[1])\n",
    "fit_con=con_band(xData,parameters2[0],parameters2[1])\n",
    "print(fit_val)\n",
    "#print(valVec)\n",
    "print(fit_con)"
   ]
  },
  {
   "cell_type": "code",
   "execution_count": 134,
   "id": "cf6e9b95",
   "metadata": {},
   "outputs": [],
   "source": [
    "plt.plot(kVec,valVec,'r-*')\n",
    "plt.plot(kVec,fit_val,'b-*')\n",
    "plt.legend(['Data','Fit'])\n",
    "plt.xlabel('Delta k')\n",
    "plt.ylabel('E [eV]')\n",
    "plt.title('Effective h-mass: {}'.format(parameters1[1]))\n",
    "plt.savefig('./plots/valFit_{}_sym_{}_npoints_{}_emptybands{}.svg'.format(formula,sym_path,nP,emptybands))\n",
    "plt.close()\n",
    "\n",
    "plt.plot(kVec,conVec,'r-*')\n",
    "plt.plot(kVec,fit_con,'b-*')\n",
    "plt.legend(['Data','Fit'])\n",
    "plt.xlabel('Delta k')\n",
    "plt.ylabel('E [eV]')\n",
    "plt.title('Effective e-mass: {}'.format(parameters2[1]))\n",
    "plt.savefig('./plots/conFit_{}_sym_{}_npoints_{}_emptybands_{}.svg'.format(formula,sym_path,nP,emptybands))\n",
    "plt.close()"
   ]
  },
  {
   "cell_type": "code",
   "execution_count": 68,
   "id": "2b0c3fdd",
   "metadata": {},
   "outputs": [
    {
     "name": "stdout",
     "output_type": "stream",
     "text": [
      "[0.02570193 0.02570193 0.02570193 0.02570193 0.02570193 0.02570193\n",
      " 0.02570193 0.02570193 0.02570193 0.02570193 0.02570193 0.02570193\n",
      " 0.02570193 0.02570193 0.02570193 0.02570193 0.02570193 0.02570193\n",
      " 0.02570193 0.02570193 0.02570193 0.02570193 0.02570193 0.02570193\n",
      " 0.02570193 0.02570193 0.02570193 0.02570193 0.02570193]\n"
     ]
    }
   ],
   "source": [
    "print(DeltaK_mag[1:]-DeltaK_mag[:len(DeltaK_mag)-1])"
   ]
  },
  {
   "cell_type": "code",
   "execution_count": 139,
   "id": "0734c1df",
   "metadata": {},
   "outputs": [
    {
     "name": "stdout",
     "output_type": "stream",
     "text": [
      "0.025266304830506115\n"
     ]
    }
   ],
   "source": [
    "print((DeltaK_mag[1:]-DeltaK_mag[:len(DeltaK_mag)-1])[0]*2)#for KM med 30 (stort set halvt så stor som spacing i den anden retning med 60)"
   ]
  },
  {
   "cell_type": "code",
   "execution_count": 149,
   "id": "e1acad42",
   "metadata": {},
   "outputs": [
    {
     "name": "stdout",
     "output_type": "stream",
     "text": [
      "0.025266304830506115\n"
     ]
    }
   ],
   "source": [
    "#KG med 59\n",
    "print((DeltaK_mag[1:]-DeltaK_mag[:len(DeltaK_mag)-1])[0]*2)"
   ]
  },
  {
   "cell_type": "code",
   "execution_count": null,
   "id": "7016a2ed",
   "metadata": {},
   "outputs": [],
   "source": [
    "plt.plot(DeltaK_mag,valenceBand)\n",
    "plt.plot(DeltaK_mag,conductionBand)\n",
    "plt.legend(['Valence band','Conduction band'])\n",
    "plt.xlabel('Delta k')\n",
    "plt.ylabel('E')\n",
    "plt.show()"
   ]
  },
  {
   "cell_type": "code",
   "execution_count": null,
   "id": "d89090d8",
   "metadata": {},
   "outputs": [],
   "source": [
    "plt.plot(DeltaK_cut,valenceBand_cut)\n",
    "plt.plot(DeltaK_cut,conductionBand_cut)\n",
    "plt.legend(['Valence band','Conduction band'])\n",
    "plt.xlabel('Delta k')\n",
    "plt.ylabel('E')\n",
    "plt.show()"
   ]
  },
  {
   "cell_type": "code",
   "execution_count": null,
   "id": "5ef453db",
   "metadata": {},
   "outputs": [],
   "source": [
    "plt.plot(kVec,valVec)\n",
    "plt.plot(kVec,conVec)\n",
    "plt.legend(['Valence band','Conduction band'])\n",
    "plt.xlabel('Delta k')\n",
    "plt.ylabel('E')\n",
    "plt.show()"
   ]
  }
 ],
 "metadata": {
  "kernelspec": {
   "display_name": "Python 3 (ipykernel)",
   "language": "python",
   "name": "python3"
  },
  "language_info": {
   "codemirror_mode": {
    "name": "ipython",
    "version": 3
   },
   "file_extension": ".py",
   "mimetype": "text/x-python",
   "name": "python",
   "nbconvert_exporter": "python",
   "pygments_lexer": "ipython3",
   "version": "3.8.6"
  }
 },
 "nbformat": 4,
 "nbformat_minor": 5
}
