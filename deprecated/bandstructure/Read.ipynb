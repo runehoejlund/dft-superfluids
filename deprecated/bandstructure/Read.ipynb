{
 "cells": [
  {
   "cell_type": "code",
   "execution_count": 1,
   "id": "4080aff5",
   "metadata": {},
   "outputs": [],
   "source": [
    "import numpy as np"
   ]
  },
  {
   "cell_type": "code",
   "execution_count": 2,
   "id": "b646969e",
   "metadata": {},
   "outputs": [],
   "source": [
    "from ase.spectrum.band_structure import BandStructure\n",
    "bs = BandStructure.read('MoS2_bs_early.json')"
   ]
  },
  {
   "cell_type": "code",
   "execution_count": null,
   "id": "17658831",
   "metadata": {},
   "outputs": [],
   "source": [
    "bs.plot(show=True)"
   ]
  },
  {
   "cell_type": "code",
   "execution_count": 5,
   "id": "fb965772",
   "metadata": {},
   "outputs": [
    {
     "name": "stdout",
     "output_type": "stream",
     "text": [
      "13\n"
     ]
    }
   ],
   "source": [
    "Bands=bs.energies\n",
    "Matrix_bandcol=np.array(Bands[0,:,:])\n",
    "Vec_max_of_each_band=np.max(Matrix_bandcol,axis=0)\n",
    "n_val=13"
   ]
  },
  {
   "cell_type": "code",
   "execution_count": 13,
   "id": "b752a1aa",
   "metadata": {},
   "outputs": [
    {
     "data": {
      "text/plain": [
       "(1, 30, 33)"
      ]
     },
     "execution_count": 13,
     "metadata": {},
     "output_type": "execute_result"
    }
   ],
   "source": [
    "np.shape(bs.energies)"
   ]
  }
 ],
 "metadata": {
  "kernelspec": {
   "display_name": "Python 3 (ipykernel)",
   "language": "python",
   "name": "python3"
  },
  "language_info": {
   "codemirror_mode": {
    "name": "ipython",
    "version": 3
   },
   "file_extension": ".py",
   "mimetype": "text/x-python",
   "name": "python",
   "nbconvert_exporter": "python",
   "pygments_lexer": "ipython3",
   "version": "3.8.6"
  }
 },
 "nbformat": 4,
 "nbformat_minor": 5
}
