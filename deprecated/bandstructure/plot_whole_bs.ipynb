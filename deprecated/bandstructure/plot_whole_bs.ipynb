{
 "cells": [
  {
   "cell_type": "code",
   "execution_count": 3,
   "id": "76109670",
   "metadata": {},
   "outputs": [
    {
     "name": "stdout",
     "output_type": "stream",
     "text": [
      "0\n",
      "0.5\n",
      "1\n",
      "1.5\n",
      "2\n",
      "2.5\n",
      "3\n",
      "3.5\n"
     ]
    }
   ],
   "source": [
    "#import important stuff\n",
    "from gpaw import GPAW, PW, FermiDirac\n",
    "from ase.io import read\n",
    "from ase.spectrum.band_structure import BandStructurePlot\n",
    "from ase.spectrum.band_structure import BandStructure\n",
    "from ase.build import mx2\n",
    "import numpy as np\n",
    "import matplotlib.pyplot as plt\n",
    "\n",
    "#structure parameters\n",
    "structure_params = {'MoS2': {'kind': '2H', 'a': 3.184, 'thickness': 3.127},\n",
    "                       'MoSe2': {'kind': '2H', 'a': 3.320, 'thickness': 3.338},\n",
    "                       'WS2': {'kind': '2H', 'a': 3.186, 'thickness': 3.359},\n",
    "                       'WSe2': {'kind': '2H', 'a': 3.319, 'thickness': 3.146},\n",
    "                       'BN': {'kind': '2H', 'a': 2.510, 'thickness': 1}}\n",
    "\n",
    "formula_List=['MoS2','MoSe2','WS2','WSe2']\n",
    "#formula_List=['MoS2']\n",
    "sym_path_List=['GMKG']\n",
    "nP_List=[100,59]\n",
    "\n",
    "vac = 20\n",
    "xc='PBE'\n",
    "ecut=500\n",
    "no_kpts=30\n",
    "\n",
    "for i in range(len(formula_List)):\n",
    "    print(i)\n",
    "    #choose\n",
    "    formula = formula_List[i]\n",
    "    vac = 20\n",
    "    out_dir = './out/'\n",
    "    sym_path=sym_path_List[0]\n",
    "    nP=nP_List[0]\n",
    "    xc='PBE'\n",
    "    ecut=500\n",
    "    no_kpts=30\n",
    "    emptybands=13\n",
    "    bs1=BandStructure.read('/home/niflheim/s183774/dft-superfluids/bandstructure/bsLoop_formula_'+formula+'_direction_'+sym_path+'_npoints_{}_emptybands_{}'.format(nP,emptybands)+ '_'+xc+'_ecut_{}_kp_{}'.format(ecut,no_kpts)+'.json')\n",
    "    #bs1.plot(show=True)\n",
    "    #bs1.plot(filename='full_bs_'+formula)\n",
    "    bs_plt = BandStructurePlot(bs1)\n",
    "    bs_plt.plot(emin=-7,emax=1)\n",
    "    bs_plt.finish_plot(show=False,filename='full_bs_lim_'+formula,loc=False)\n",
    "    print(i+0.5)\n"
   ]
  }
 ],
 "metadata": {
  "kernelspec": {
   "display_name": "Python 3 (ipykernel)",
   "language": "python",
   "name": "python3"
  },
  "language_info": {
   "codemirror_mode": {
    "name": "ipython",
    "version": 3
   },
   "file_extension": ".py",
   "mimetype": "text/x-python",
   "name": "python",
   "nbconvert_exporter": "python",
   "pygments_lexer": "ipython3",
   "version": "3.8.6"
  }
 },
 "nbformat": 4,
 "nbformat_minor": 5
}
