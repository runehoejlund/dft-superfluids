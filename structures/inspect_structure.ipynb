{
 "cells": [
  {
   "cell_type": "markdown",
   "metadata": {},
   "source": [
    "# Inspect Structures with ASE Atoms Object"
   ]
  },
  {
   "cell_type": "code",
   "execution_count": 45,
   "metadata": {},
   "outputs": [],
   "source": [
    "import numpy as np\n",
    "from ase.io import read\n",
    "from ase.visualize import view"
   ]
  },
  {
   "cell_type": "code",
   "execution_count": 37,
   "metadata": {},
   "outputs": [],
   "source": [
    "# Read and view atom/structure:\n",
    "formula = 'WSe2'\n",
    "structure = read('./' + formula + '.json')\n",
    "view(structure)"
   ]
  },
  {
   "cell_type": "code",
   "execution_count": 39,
   "metadata": {},
   "outputs": [
    {
     "name": "stdout",
     "output_type": "stream",
     "text": [
      "cell lengths before modification: \n",
      "[ 3.31900662  3.31900662 18.3585528 ]\n",
      "lengths after:\n",
      "[ 3.31900662  3.31900662 20.        ]\n"
     ]
    }
   ],
   "source": [
    "# Get cell basis vector lengths\n",
    "lengths = structure.get_cell().lengths()\n",
    "print('cell lengths before modification: ')\n",
    "print(lengths)"
   ]
  },
  {
   "cell_type": "code",
   "execution_count": 43,
   "metadata": {},
   "outputs": [
    {
     "data": {
      "text/plain": [
       "<subprocess.Popen at 0x7fa8802f8f70>"
      ]
     },
     "execution_count": 43,
     "metadata": {},
     "output_type": "execute_result"
    }
   ],
   "source": [
    "# Update length to include 20 Å vacuum\n",
    "lengths[np.argmax(lengths)] = 20\n",
    "print('lengths after:')\n",
    "print(lengths)\n",
    "\n",
    "structure.set_cell(lengths)\n",
    "structure.center()\n",
    "view(structure)"
   ]
  },
  {
   "cell_type": "code",
   "execution_count": 44,
   "metadata": {},
   "outputs": [],
   "source": [
    "# uncomment to see original structure\n",
    "# !ase gui ./WSe2.json"
   ]
  }
 ],
 "metadata": {
  "kernelspec": {
   "display_name": "10302",
   "language": "python",
   "name": "10302"
  },
  "language_info": {
   "codemirror_mode": {
    "name": "ipython",
    "version": 3
   },
   "file_extension": ".py",
   "mimetype": "text/x-python",
   "name": "python",
   "nbconvert_exporter": "python",
   "pygments_lexer": "ipython3",
   "version": "3.8.5"
  },
  "orig_nbformat": 4
 },
 "nbformat": 4,
 "nbformat_minor": 2
}
